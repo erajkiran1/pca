{
 "cells": [
  {
   "cell_type": "markdown",
   "metadata": {},
   "source": [
    "<img src=\"../img/logo.png\", width=200 />"
   ]
  },
  {
   "cell_type": "markdown",
   "metadata": {},
   "source": [
    "# Unsupervised Learning (It's not about predictions !!!)\n",
    "<font size=4> Only InDependent Variables are required, does not matter if you have Dependent Variable or not</font>\n",
    "\n",
    "+ That means, we have only X's in the data, there is no Y.\n",
    "\n",
    "<font size=4> <b>We discuss two concepts as part of Unsupervised Learning:</b></font>\n",
    "\n",
    "<font size=3 color=\"purple\"><b> 1). Dimensionality Reduction </b></font>\n",
    "\n",
    "<font size=3 color=\"purple\"><b> 2). Clusters </b></font>"
   ]
  },
  {
   "cell_type": "markdown",
   "metadata": {},
   "source": [
    "1). Dimentionality Reduction  \n",
    "---------------------------------\n",
    "\n",
    "Can be achieved by PCA (Principal Component Analysis), LDA ( Linear Discriminant Analysis), tSNE ( T-Distributed Stochastic Neighbour Embedding). We focus on PCA which unsupervised. The later two - LDA and tSNE are supervised learning techniques.\n",
    "\n",
    "<font size=3>**Curse of Dimentionality:**   Many Machine Learning problems involve thousands or even millions of features for each training instance. Not only does this make training extremely slow, it can also make it much harder to find a good solution. This problem is often referred to as the curse of dimensionality.</font>\n",
    "\n",
    "#### <span style=\"color:blue\">Reducing Dimentionality with an Example: if we take digit_recognizer dataset, the pixels on the image borders are almost always white, so you could completely drop these pixels from the training set without losing much information. Moreover, two neighboring pixels are often highly correlated: if you merge them into a single pixel (e.g., by taking the mean of the two pixel intensities), you will not lose much information.</span>\n",
    "\n",
    "  * <span style=\"color:red\"> Warning : Reducing dimensionality does lose some information (just like compressing an image to JPEG can degrade its quality), so even though it will speed up training, it may also make your system perform slightly worse. It also makes your pipelines a bit more complex and thus harder to maintain. So you should first try to train your system with the original data before considering using dimensionality reduction if training is too slow. In some cases, however, reducing the dimensionality of the training data may filter out some noise and unnecessary details and thus result in higher performance (but in general it won’t; it will just speed up training). </span>\n",
    "  * Apart from performance improvement, dimentionality reduction is useful in data visualization. Reduce multi-dimentional dataset into two dimentions and plot 2D graph to understand patterns in data (may not give right picture in most of the cases)"
   ]
  },
  {
   "cell_type": "markdown",
   "metadata": {},
   "source": [
    "https://towardsdatascience.com/a-one-stop-shop-for-principal-component-analysis-5582fb7e0a9c"
   ]
  },
  {
   "cell_type": "markdown",
   "metadata": {},
   "source": [
    "## ML approaches for Dimentionality Reduction\n",
    "  \n",
    "  <font size= 4> 1) Projection Learning </font>\n",
    "  \n",
    "  <font size= 4> 2) Manifold Learning </font>\n",
    "  \n",
    "## 1) Projection Learning:"
   ]
  },
  {
   "cell_type": "markdown",
   "metadata": {},
   "source": [
    "PCA (Principal Component Analysis) is one of the projection learnings. PCA finds the principal components of data.\n",
    "\n",
    "***PCA is a feature extraction method***,while apart from manual expertise selection, L1 (Lasso) regularisation, RandomForest can be used as feature selection methods.\n",
    "\n",
    "  * Principal Components are the directions where there is the most variance, the directions where the data is most spread out.\n",
    "  * Each of the dimentions (principal components) found by PCA is a linear combination of the n - Features. \n",
    "  * **Assumption :** PCA assumes that the direction in which $x_1, x_2, ..., x_n$ show the **most variation** are the direction that **are associated with Y (target variable)**. This assumption is not gaurented to be true, it often tunrs out to be a reasonable enough approximation to give good results.\n",
    "  \n",
    "  * PCA is perfectly applicable to such trainsets in supervised learning, where there exist plenty of multi-correlated features.\n",
    "  \n",
    "  * If we have n - features, then we will have n - principal components. Out of such \"n\" principal components, first few components it self will explain majority of the orignial data.\n",
    "  \n",
    "<img height=\"600\" width=\"750\" src=\"./principal_components.png\">\n",
    "  * The first principal component vector ($z_1$) defines the line that is as close as possible to the data.\n",
    "  * Perpendicular projection of data points on to $z_1$ will result in data with most variance.\n",
    "  * The second principal component vector ($z_2$) is orthogonal to first principle component and so on...\n",
    "  <br/>\n",
    "  \n",
    "  <br/>\n",
    "<font size=4> How to find principal components ?</font>\n",
    "\n",
    "The objective of PCA algorithm is to find a direction(s) (a vector - i.e principlal component) in data on to which to project the data so as to minimize the projection error. So, the goal is to Reduce n-demensional data to k-dimensions (i.e k number of vectors) on to which to project the data so as to minimize the projection error. \n",
    "\n",
    "  + We can use maths **(Eigenvectors and Eigenvalues)** to find the principal component. \n",
    "  \n",
    "  + Eigenvectors and values exist in pairs: every eigenvector has a corresponding eigenvalue.\n",
    "  \n",
    "  + **An eigenvector is a direction of the line**. **An eigenvalue is a number, telling you how much variance there in the data in that direction.** \n",
    "  \n",
    "  + The p - number of eigenvector with the highest eigenvalue is therefore the principal component out or n - components*."
   ]
  },
  {
   "cell_type": "markdown",
   "metadata": {},
   "source": [
    "Steps that happens when you perform PCA:\n",
    "    \n",
    "1). Mean centralise every feature of input data set \"X\"\n",
    " Mean normalization is where for a given feature f1, each value\"xi\" of that feature is replaced with xi-mean(fi).\n",
    " \n",
    " The aim of standardisation / normalisation is that, when the technqiue is applied all the features would reduce to comparable range.So that weights will be assigned appropriately.\n",
    "    \n",
    "2). Calculate the \"covariance matrix - A\" of the centered matrix X.  \n",
    "\n",
    "A = cov(X) (Nothing but XT.X)\n",
    "\n",
    "3). Calculate the eigen decomposition of the covariance matrix A. This results in a list of eigenvalues and a list of eigenvectors.\n",
    "\n",
    "eigen_values matrix (lambda), eigen_vectors matrix (V) = eig(A)\n",
    "\n",
    "A.V = Lambda . V\n",
    "\n",
    "Lambda is a Diagonal Matrix.\n",
    "\n",
    "4).How many components you want? - If I want 20 components, then I have to multiply original matrix mXn with nX20 of eigen vector matrix, the resultant matrix mX20 is the PCA matrix."
   ]
  },
  {
   "cell_type": "markdown",
   "metadata": {},
   "source": [
    "### Lets take digit recognizer data set and try to understand use of PCA"
   ]
  },
  {
   "cell_type": "code",
   "execution_count": 1,
   "metadata": {},
   "outputs": [],
   "source": [
    "import pandas as pd\n",
    "import numpy as np\n",
    "import matplotlib.pyplot as plt\n",
    "%matplotlib inline\n",
    "from sklearn.base import BaseEstimator, TransformerMixin\n",
    "from sklearn.pipeline import Pipeline\n",
    "from sklearn.preprocessing import MinMaxScaler\n",
    "from sklearn.model_selection import GridSearchCV\n",
    "\n",
    "plt.rcParams['axes.labelsize'] = 14\n",
    "plt.rcParams['xtick.labelsize'] = 12\n",
    "plt.rcParams['ytick.labelsize'] = 12\n",
    "import warnings\n",
    "warnings.filterwarnings('ignore')\n",
    "\n",
    "import random\n",
    "random.seed(10)"
   ]
  },
  {
   "cell_type": "code",
   "execution_count": 2,
   "metadata": {},
   "outputs": [],
   "source": [
    "digit_dataset = pd.read_csv('digit_recognizer_train.csv')"
   ]
  },
  {
   "cell_type": "code",
   "execution_count": 40,
   "metadata": {},
   "outputs": [
    {
     "data": {
      "text/html": [
       "<div>\n",
       "<style scoped>\n",
       "    .dataframe tbody tr th:only-of-type {\n",
       "        vertical-align: middle;\n",
       "    }\n",
       "\n",
       "    .dataframe tbody tr th {\n",
       "        vertical-align: top;\n",
       "    }\n",
       "\n",
       "    .dataframe thead th {\n",
       "        text-align: right;\n",
       "    }\n",
       "</style>\n",
       "<table border=\"1\" class=\"dataframe\">\n",
       "  <thead>\n",
       "    <tr style=\"text-align: right;\">\n",
       "      <th></th>\n",
       "      <th>label</th>\n",
       "      <th>pixel0</th>\n",
       "      <th>pixel1</th>\n",
       "      <th>pixel2</th>\n",
       "      <th>pixel3</th>\n",
       "      <th>pixel4</th>\n",
       "      <th>pixel5</th>\n",
       "      <th>pixel6</th>\n",
       "      <th>pixel7</th>\n",
       "      <th>pixel8</th>\n",
       "      <th>...</th>\n",
       "      <th>pixel774</th>\n",
       "      <th>pixel775</th>\n",
       "      <th>pixel776</th>\n",
       "      <th>pixel777</th>\n",
       "      <th>pixel778</th>\n",
       "      <th>pixel779</th>\n",
       "      <th>pixel780</th>\n",
       "      <th>pixel781</th>\n",
       "      <th>pixel782</th>\n",
       "      <th>pixel783</th>\n",
       "    </tr>\n",
       "  </thead>\n",
       "  <tbody>\n",
       "    <tr>\n",
       "      <th>0</th>\n",
       "      <td>1</td>\n",
       "      <td>0</td>\n",
       "      <td>0</td>\n",
       "      <td>0</td>\n",
       "      <td>0</td>\n",
       "      <td>0</td>\n",
       "      <td>0</td>\n",
       "      <td>0</td>\n",
       "      <td>0</td>\n",
       "      <td>0</td>\n",
       "      <td>...</td>\n",
       "      <td>0</td>\n",
       "      <td>0</td>\n",
       "      <td>0</td>\n",
       "      <td>0</td>\n",
       "      <td>0</td>\n",
       "      <td>0</td>\n",
       "      <td>0</td>\n",
       "      <td>0</td>\n",
       "      <td>0</td>\n",
       "      <td>0</td>\n",
       "    </tr>\n",
       "    <tr>\n",
       "      <th>1</th>\n",
       "      <td>0</td>\n",
       "      <td>0</td>\n",
       "      <td>0</td>\n",
       "      <td>0</td>\n",
       "      <td>0</td>\n",
       "      <td>0</td>\n",
       "      <td>0</td>\n",
       "      <td>0</td>\n",
       "      <td>0</td>\n",
       "      <td>0</td>\n",
       "      <td>...</td>\n",
       "      <td>0</td>\n",
       "      <td>0</td>\n",
       "      <td>0</td>\n",
       "      <td>0</td>\n",
       "      <td>0</td>\n",
       "      <td>0</td>\n",
       "      <td>0</td>\n",
       "      <td>0</td>\n",
       "      <td>0</td>\n",
       "      <td>0</td>\n",
       "    </tr>\n",
       "    <tr>\n",
       "      <th>2</th>\n",
       "      <td>1</td>\n",
       "      <td>0</td>\n",
       "      <td>0</td>\n",
       "      <td>0</td>\n",
       "      <td>0</td>\n",
       "      <td>0</td>\n",
       "      <td>0</td>\n",
       "      <td>0</td>\n",
       "      <td>0</td>\n",
       "      <td>0</td>\n",
       "      <td>...</td>\n",
       "      <td>0</td>\n",
       "      <td>0</td>\n",
       "      <td>0</td>\n",
       "      <td>0</td>\n",
       "      <td>0</td>\n",
       "      <td>0</td>\n",
       "      <td>0</td>\n",
       "      <td>0</td>\n",
       "      <td>0</td>\n",
       "      <td>0</td>\n",
       "    </tr>\n",
       "    <tr>\n",
       "      <th>3</th>\n",
       "      <td>4</td>\n",
       "      <td>0</td>\n",
       "      <td>0</td>\n",
       "      <td>0</td>\n",
       "      <td>0</td>\n",
       "      <td>0</td>\n",
       "      <td>0</td>\n",
       "      <td>0</td>\n",
       "      <td>0</td>\n",
       "      <td>0</td>\n",
       "      <td>...</td>\n",
       "      <td>0</td>\n",
       "      <td>0</td>\n",
       "      <td>0</td>\n",
       "      <td>0</td>\n",
       "      <td>0</td>\n",
       "      <td>0</td>\n",
       "      <td>0</td>\n",
       "      <td>0</td>\n",
       "      <td>0</td>\n",
       "      <td>0</td>\n",
       "    </tr>\n",
       "    <tr>\n",
       "      <th>4</th>\n",
       "      <td>0</td>\n",
       "      <td>0</td>\n",
       "      <td>0</td>\n",
       "      <td>0</td>\n",
       "      <td>0</td>\n",
       "      <td>0</td>\n",
       "      <td>0</td>\n",
       "      <td>0</td>\n",
       "      <td>0</td>\n",
       "      <td>0</td>\n",
       "      <td>...</td>\n",
       "      <td>0</td>\n",
       "      <td>0</td>\n",
       "      <td>0</td>\n",
       "      <td>0</td>\n",
       "      <td>0</td>\n",
       "      <td>0</td>\n",
       "      <td>0</td>\n",
       "      <td>0</td>\n",
       "      <td>0</td>\n",
       "      <td>0</td>\n",
       "    </tr>\n",
       "  </tbody>\n",
       "</table>\n",
       "<p>5 rows × 785 columns</p>\n",
       "</div>"
      ],
      "text/plain": [
       "   label  pixel0  pixel1  pixel2  pixel3  pixel4  pixel5  pixel6  pixel7  \\\n",
       "0      1       0       0       0       0       0       0       0       0   \n",
       "1      0       0       0       0       0       0       0       0       0   \n",
       "2      1       0       0       0       0       0       0       0       0   \n",
       "3      4       0       0       0       0       0       0       0       0   \n",
       "4      0       0       0       0       0       0       0       0       0   \n",
       "\n",
       "   pixel8  ...  pixel774  pixel775  pixel776  pixel777  pixel778  pixel779  \\\n",
       "0       0  ...         0         0         0         0         0         0   \n",
       "1       0  ...         0         0         0         0         0         0   \n",
       "2       0  ...         0         0         0         0         0         0   \n",
       "3       0  ...         0         0         0         0         0         0   \n",
       "4       0  ...         0         0         0         0         0         0   \n",
       "\n",
       "   pixel780  pixel781  pixel782  pixel783  \n",
       "0         0         0         0         0  \n",
       "1         0         0         0         0  \n",
       "2         0         0         0         0  \n",
       "3         0         0         0         0  \n",
       "4         0         0         0         0  \n",
       "\n",
       "[5 rows x 785 columns]"
      ]
     },
     "execution_count": 40,
     "metadata": {},
     "output_type": "execute_result"
    }
   ],
   "source": [
    "digit_dataset.head()"
   ]
  },
  {
   "cell_type": "code",
   "execution_count": 42,
   "metadata": {},
   "outputs": [
    {
     "data": {
      "text/plain": [
       "(42000, 785)"
      ]
     },
     "execution_count": 42,
     "metadata": {},
     "output_type": "execute_result"
    }
   ],
   "source": [
    "digit_dataset.shape"
   ]
  },
  {
   "cell_type": "code",
   "execution_count": 4,
   "metadata": {},
   "outputs": [],
   "source": [
    "digit_X = digit_dataset.iloc[:, 1:]\n",
    "digit_y = digit_dataset['label']"
   ]
  },
  {
   "cell_type": "code",
   "execution_count": 5,
   "metadata": {},
   "outputs": [],
   "source": [
    "# By default train_test_split does STRATIFIED split based on label (y-value).\n",
    "from sklearn.model_selection import train_test_split\n",
    "digit_X_train, digit_X_test, digit_y_train, digit_y_test = train_test_split(digit_X, digit_y, test_size=0.2)"
   ]
  },
  {
   "cell_type": "code",
   "execution_count": 140,
   "metadata": {},
   "outputs": [
    {
     "data": {
      "text/plain": [
       "(33600, 784)"
      ]
     },
     "execution_count": 140,
     "metadata": {},
     "output_type": "execute_result"
    }
   ],
   "source": [
    "digit_X_train.shape"
   ]
  },
  {
   "cell_type": "code",
   "execution_count": 147,
   "metadata": {},
   "outputs": [
    {
     "data": {
      "text/html": [
       "<div>\n",
       "<style scoped>\n",
       "    .dataframe tbody tr th:only-of-type {\n",
       "        vertical-align: middle;\n",
       "    }\n",
       "\n",
       "    .dataframe tbody tr th {\n",
       "        vertical-align: top;\n",
       "    }\n",
       "\n",
       "    .dataframe thead th {\n",
       "        text-align: right;\n",
       "    }\n",
       "</style>\n",
       "<table border=\"1\" class=\"dataframe\">\n",
       "  <thead>\n",
       "    <tr style=\"text-align: right;\">\n",
       "      <th></th>\n",
       "      <th>pixel0</th>\n",
       "      <th>pixel1</th>\n",
       "      <th>pixel2</th>\n",
       "      <th>pixel3</th>\n",
       "      <th>pixel4</th>\n",
       "      <th>pixel5</th>\n",
       "      <th>pixel6</th>\n",
       "      <th>pixel7</th>\n",
       "      <th>pixel8</th>\n",
       "      <th>pixel9</th>\n",
       "      <th>...</th>\n",
       "      <th>pixel774</th>\n",
       "      <th>pixel775</th>\n",
       "      <th>pixel776</th>\n",
       "      <th>pixel777</th>\n",
       "      <th>pixel778</th>\n",
       "      <th>pixel779</th>\n",
       "      <th>pixel780</th>\n",
       "      <th>pixel781</th>\n",
       "      <th>pixel782</th>\n",
       "      <th>pixel783</th>\n",
       "    </tr>\n",
       "  </thead>\n",
       "  <tbody>\n",
       "    <tr>\n",
       "      <th>23636</th>\n",
       "      <td>0</td>\n",
       "      <td>0</td>\n",
       "      <td>0</td>\n",
       "      <td>0</td>\n",
       "      <td>0</td>\n",
       "      <td>0</td>\n",
       "      <td>0</td>\n",
       "      <td>0</td>\n",
       "      <td>0</td>\n",
       "      <td>0</td>\n",
       "      <td>...</td>\n",
       "      <td>0</td>\n",
       "      <td>0</td>\n",
       "      <td>0</td>\n",
       "      <td>0</td>\n",
       "      <td>0</td>\n",
       "      <td>0</td>\n",
       "      <td>0</td>\n",
       "      <td>0</td>\n",
       "      <td>0</td>\n",
       "      <td>0</td>\n",
       "    </tr>\n",
       "    <tr>\n",
       "      <th>852</th>\n",
       "      <td>0</td>\n",
       "      <td>0</td>\n",
       "      <td>0</td>\n",
       "      <td>0</td>\n",
       "      <td>0</td>\n",
       "      <td>0</td>\n",
       "      <td>0</td>\n",
       "      <td>0</td>\n",
       "      <td>0</td>\n",
       "      <td>0</td>\n",
       "      <td>...</td>\n",
       "      <td>0</td>\n",
       "      <td>0</td>\n",
       "      <td>0</td>\n",
       "      <td>0</td>\n",
       "      <td>0</td>\n",
       "      <td>0</td>\n",
       "      <td>0</td>\n",
       "      <td>0</td>\n",
       "      <td>0</td>\n",
       "      <td>0</td>\n",
       "    </tr>\n",
       "    <tr>\n",
       "      <th>38360</th>\n",
       "      <td>0</td>\n",
       "      <td>0</td>\n",
       "      <td>0</td>\n",
       "      <td>0</td>\n",
       "      <td>0</td>\n",
       "      <td>0</td>\n",
       "      <td>0</td>\n",
       "      <td>0</td>\n",
       "      <td>0</td>\n",
       "      <td>0</td>\n",
       "      <td>...</td>\n",
       "      <td>0</td>\n",
       "      <td>0</td>\n",
       "      <td>0</td>\n",
       "      <td>0</td>\n",
       "      <td>0</td>\n",
       "      <td>0</td>\n",
       "      <td>0</td>\n",
       "      <td>0</td>\n",
       "      <td>0</td>\n",
       "      <td>0</td>\n",
       "    </tr>\n",
       "  </tbody>\n",
       "</table>\n",
       "<p>3 rows × 784 columns</p>\n",
       "</div>"
      ],
      "text/plain": [
       "       pixel0  pixel1  pixel2  pixel3  pixel4  pixel5  pixel6  pixel7  pixel8  \\\n",
       "23636       0       0       0       0       0       0       0       0       0   \n",
       "852         0       0       0       0       0       0       0       0       0   \n",
       "38360       0       0       0       0       0       0       0       0       0   \n",
       "\n",
       "       pixel9  ...  pixel774  pixel775  pixel776  pixel777  pixel778  \\\n",
       "23636       0  ...         0         0         0         0         0   \n",
       "852         0  ...         0         0         0         0         0   \n",
       "38360       0  ...         0         0         0         0         0   \n",
       "\n",
       "       pixel779  pixel780  pixel781  pixel782  pixel783  \n",
       "23636         0         0         0         0         0  \n",
       "852           0         0         0         0         0  \n",
       "38360         0         0         0         0         0  \n",
       "\n",
       "[3 rows x 784 columns]"
      ]
     },
     "execution_count": 147,
     "metadata": {},
     "output_type": "execute_result"
    }
   ],
   "source": [
    "digit_X_train[:3]"
   ]
  },
  {
   "cell_type": "markdown",
   "metadata": {},
   "source": [
    "### scikit-learn PCA parameters:\n",
    "  * **n_components:** This hyperparameter can be used to specify **number of components (an Integer) ** we want to reduce to OR a float **between 0.0 and 1.0, indicating the ratio of variance you wish to preserve**. \"n_components\" variable on PCA class give access to Principle Components.\n",
    "  <br>\n",
    "  <br>\n",
    "  * **Explained Varience Ratio:** Explained variance ratio of each principal component, available via the  \"explained_variance\\_ratio\\_\" hyperparameter. It indicates the proportion of the dataset's variance that lies along the axis of each principal component.\n"
   ]
  },
  {
   "cell_type": "code",
   "execution_count": 6,
   "metadata": {},
   "outputs": [
    {
     "data": {
      "text/plain": [
       "(33600, 784)"
      ]
     },
     "execution_count": 6,
     "metadata": {},
     "output_type": "execute_result"
    }
   ],
   "source": [
    "from sklearn.decomposition import PCA\n",
    "pca1 = PCA() \n",
    "pca1.fit_transform(digit_X_train).shape"
   ]
  },
  {
   "cell_type": "markdown",
   "metadata": {},
   "source": [
    "The above (33600, 784) PCA matrix is the result of the multiplication between original matrix \"digit_X_train\"-(33600X784) and Eigen Vectors matrix - (784X784)"
   ]
  },
  {
   "cell_type": "markdown",
   "metadata": {},
   "source": [
    "### Accessing generated Eigen Vectors / Principal Components"
   ]
  },
  {
   "cell_type": "markdown",
   "metadata": {},
   "source": [
    "<font color = \"purple\">Here we have 784 Principal Components, one for each feature. Note that components\\_ variable contains the PCs as horizontal vectors, so, to access first principal component we have to access vector and do a transpose on it (pca.components_. T[:, 0])</font>"
   ]
  },
  {
   "cell_type": "code",
   "execution_count": 207,
   "metadata": {},
   "outputs": [
    {
     "data": {
      "text/plain": [
       "int"
      ]
     },
     "execution_count": 207,
     "metadata": {},
     "output_type": "execute_result"
    }
   ],
   "source": [
    "pca1.n_components_ #overall 784 principal components got generated"
   ]
  },
  {
   "cell_type": "code",
   "execution_count": 208,
   "metadata": {},
   "outputs": [
    {
     "data": {
      "text/plain": [
       "numpy.ndarray"
      ]
     },
     "execution_count": 208,
     "metadata": {},
     "output_type": "execute_result"
    }
   ],
   "source": [
    "type(pca1.components_)"
   ]
  },
  {
   "cell_type": "code",
   "execution_count": 196,
   "metadata": {},
   "outputs": [
    {
     "data": {
      "text/plain": [
       "(784, 784)"
      ]
     },
     "execution_count": 196,
     "metadata": {},
     "output_type": "execute_result"
    }
   ],
   "source": [
    "pca1.components_.T.shape # shows the \"eigen vector\" matrix"
   ]
  },
  {
   "cell_type": "code",
   "execution_count": 210,
   "metadata": {
    "scrolled": false
   },
   "outputs": [],
   "source": [
    "#pca1.components_.T[:,0]#.size #accessing first principal component"
   ]
  },
  {
   "cell_type": "code",
   "execution_count": 169,
   "metadata": {},
   "outputs": [],
   "source": [
    "#pca1.components_.T[:1, :].shape\n",
    "#pca1.components_.T[:,0] #size accessing first principal component"
   ]
  },
  {
   "cell_type": "markdown",
   "metadata": {},
   "source": [
    "###  Accessing Eigen Values / explained variance ration"
   ]
  },
  {
   "cell_type": "code",
   "execution_count": 75,
   "metadata": {},
   "outputs": [
    {
     "data": {
      "text/plain": [
       "(784,)"
      ]
     },
     "execution_count": 75,
     "metadata": {},
     "output_type": "execute_result"
    }
   ],
   "source": [
    "pca1.explained_variance_ratio_.shape ## One explained varience ratio for each feature hence 784"
   ]
  },
  {
   "cell_type": "code",
   "execution_count": 192,
   "metadata": {},
   "outputs": [
    {
     "data": {
      "text/plain": [
       "array([0.09747063, 0.07157467, 0.06137088, 0.0539544 , 0.04913588,\n",
       "       0.04328464, 0.03275357, 0.02893245, 0.02763523, 0.02348413,\n",
       "       0.02094798, 0.02061034, 0.01715475, 0.016995  , 0.01588998,\n",
       "       0.01483985, 0.01313615, 0.0128221 , 0.01189697, 0.01142942,\n",
       "       0.01077357, 0.01015601, 0.00956786, 0.00914766, 0.00885259,\n",
       "       0.00836936, 0.00807837, 0.00776741, 0.00737451, 0.00688355])"
      ]
     },
     "execution_count": 192,
     "metadata": {},
     "output_type": "execute_result"
    }
   ],
   "source": [
    "pca1.explained_variance_ratio_[:30] ## See how the PC's explained varience is reducing."
   ]
  },
  {
   "cell_type": "code",
   "execution_count": 191,
   "metadata": {},
   "outputs": [
    {
     "data": {
      "text/plain": [
       "0.7322899298060422"
      ]
     },
     "execution_count": 191,
     "metadata": {},
     "output_type": "execute_result"
    }
   ],
   "source": [
    "pca1.explained_variance_ratio_[:30].sum()"
   ]
  },
  {
   "cell_type": "code",
   "execution_count": 201,
   "metadata": {},
   "outputs": [
    {
     "data": {
      "text/plain": [
       "0.6453190376073356"
      ]
     },
     "execution_count": 201,
     "metadata": {},
     "output_type": "execute_result"
    }
   ],
   "source": [
    "pca1.explained_variance_ratio_[:20].sum()"
   ]
  },
  {
   "cell_type": "code",
   "execution_count": 81,
   "metadata": {
    "scrolled": false
   },
   "outputs": [
    {
     "name": "stdout",
     "output_type": "stream",
     "text": [
      "Total Explained Varience Ratio :  1.0\n"
     ]
    }
   ],
   "source": [
    "print(\"Total Explained Varience Ratio : \", pca1.explained_variance_ratio_.sum())"
   ]
  },
  {
   "cell_type": "markdown",
   "metadata": {},
   "source": [
    "### Performing PCA with demanded number of components"
   ]
  },
  {
   "cell_type": "code",
   "execution_count": 160,
   "metadata": {},
   "outputs": [
    {
     "data": {
      "text/plain": [
       "(33600, 20)"
      ]
     },
     "execution_count": 160,
     "metadata": {},
     "output_type": "execute_result"
    }
   ],
   "source": [
    "pca2 = PCA(n_components=20)  ## number of components (an whole number)\n",
    "pca2.fit_transform(digit_X_train).shape"
   ]
  },
  {
   "cell_type": "markdown",
   "metadata": {},
   "source": [
    "The above (33600, 784) PCA matrix is the result of the multiplication between original matrix \"digit_X_train\"-(33600, 784) and Eigen Vectors matrix - (784X20)"
   ]
  },
  {
   "cell_type": "code",
   "execution_count": 150,
   "metadata": {},
   "outputs": [
    {
     "data": {
      "text/plain": [
       "20"
      ]
     },
     "execution_count": 150,
     "metadata": {},
     "output_type": "execute_result"
    }
   ],
   "source": [
    "pca2.n_components_"
   ]
  },
  {
   "cell_type": "code",
   "execution_count": 189,
   "metadata": {},
   "outputs": [
    {
     "data": {
      "text/plain": [
       "(784, 20)"
      ]
     },
     "execution_count": 189,
     "metadata": {},
     "output_type": "execute_result"
    }
   ],
   "source": [
    "pca2.components_.T.shape ## 784 projection, 20 selected top principal components"
   ]
  },
  {
   "cell_type": "code",
   "execution_count": 84,
   "metadata": {},
   "outputs": [
    {
     "data": {
      "text/plain": [
       "(20,)"
      ]
     },
     "execution_count": 84,
     "metadata": {},
     "output_type": "execute_result"
    }
   ],
   "source": [
    "pca2.explained_variance_ratio_.shape"
   ]
  },
  {
   "cell_type": "code",
   "execution_count": 86,
   "metadata": {},
   "outputs": [
    {
     "data": {
      "text/plain": [
       "0.6453172388003677"
      ]
     },
     "execution_count": 86,
     "metadata": {},
     "output_type": "execute_result"
    }
   ],
   "source": [
    "#first 20 components are just explaining 64% of variance of orignial dataset\n",
    "pca2.explained_variance_ratio_.sum() "
   ]
  },
  {
   "cell_type": "markdown",
   "metadata": {},
   "source": [
    "#### PCA with demanded amount of variance to preserve"
   ]
  },
  {
   "cell_type": "code",
   "execution_count": 212,
   "metadata": {},
   "outputs": [
    {
     "data": {
      "text/plain": [
       "array([[ 1.06606752e+03, -3.20505640e+02, -5.64143524e+02, ...,\n",
       "         1.51875969e+01, -6.97940065e+01,  4.66657525e+01],\n",
       "       [ 6.68746230e+02, -6.20414688e+01,  8.30570206e+02, ...,\n",
       "        -1.14601832e+01, -1.35298824e+02, -1.74456245e+01],\n",
       "       [ 4.45737855e+01, -5.07884501e+02, -8.48786257e+00, ...,\n",
       "        -2.85422169e+01, -1.32230060e+01, -2.36421794e+01],\n",
       "       ...,\n",
       "       [-2.32090421e+00, -3.85373301e+02,  2.41241636e+02, ...,\n",
       "        -6.33557319e-01,  5.51403546e+01, -3.33136486e+01],\n",
       "       [ 1.36724082e+02, -2.12366191e+02,  6.35442971e+02, ...,\n",
       "         3.00597472e+01,  1.73476491e+01, -2.59168740e+01],\n",
       "       [ 1.93027025e+03,  1.04879964e+02, -1.25520838e+02, ...,\n",
       "         1.58590215e+01,  2.28736242e+01,  3.35639051e+01]])"
      ]
     },
     "execution_count": 212,
     "metadata": {},
     "output_type": "execute_result"
    }
   ],
   "source": [
    "pca3 = PCA(n_components=0.95)  ## ratio of variance you wish to preserve\n",
    "pca3.fit_transform(digit_X_train)"
   ]
  },
  {
   "cell_type": "code",
   "execution_count": 214,
   "metadata": {},
   "outputs": [
    {
     "data": {
      "text/plain": [
       "(33600, 153)"
      ]
     },
     "execution_count": 214,
     "metadata": {},
     "output_type": "execute_result"
    }
   ],
   "source": [
    "pca3.fit_transform(digit_X_train).shape"
   ]
  },
  {
   "cell_type": "code",
   "execution_count": 193,
   "metadata": {},
   "outputs": [
    {
     "data": {
      "text/plain": [
       "(784, 153)"
      ]
     },
     "execution_count": 193,
     "metadata": {},
     "output_type": "execute_result"
    }
   ],
   "source": [
    "## 95% varience preserved and is explained by  153 top principle components\n",
    "pca3.components_.T.shape "
   ]
  },
  {
   "cell_type": "code",
   "execution_count": 194,
   "metadata": {},
   "outputs": [
    {
     "data": {
      "text/plain": [
       "0.9501053946648476"
      ]
     },
     "execution_count": 194,
     "metadata": {},
     "output_type": "execute_result"
    }
   ],
   "source": [
    "pca3.explained_variance_ratio_.sum()"
   ]
  },
  {
   "cell_type": "markdown",
   "metadata": {},
   "source": [
    "### How to choose Right Number of Dimensions or Principal Components ?\n",
    "  * So far we have randomly choose dataset's varience preservation percentage \"PCA(n_components=0.95)\" or number of Principal Components to preserve \"PCA(n_components=20)\". This is not right always, below are two ways to choose this."
   ]
  },
  {
   "cell_type": "markdown",
   "metadata": {},
   "source": [
    "### Way 1:  Take cumulative sum of explained variance of the principal components, pick a threashold for preserving the origianl dataset variance.\n"
   ]
  },
  {
   "cell_type": "markdown",
   "metadata": {},
   "source": [
    "<font color=\"brown\">How many components can preserve grater than or equal to 96% of variance of original data?</font>"
   ]
  },
  {
   "cell_type": "code",
   "execution_count": 205,
   "metadata": {},
   "outputs": [
    {
     "data": {
      "text/plain": [
       "array([ 2,  6,  7, 12])"
      ]
     },
     "execution_count": 205,
     "metadata": {},
     "output_type": "execute_result"
    }
   ],
   "source": [
    "#What is cumsum - cummulative sum?\n",
    "np.cumsum([2,4,1,5])"
   ]
  },
  {
   "cell_type": "code",
   "execution_count": 8,
   "metadata": {},
   "outputs": [
    {
     "data": {
      "text/plain": [
       "array([0.09751189, 0.07159032, 0.06124887, 0.05390163, 0.04877526,\n",
       "       0.04278913, 0.0328344 , 0.02904578, 0.0276693 , 0.02348698,\n",
       "       0.02110618, 0.02052039, 0.01704771, 0.01687997, 0.01583813,\n",
       "       0.0148306 , 0.01318356, 0.01281832, 0.0119601 , 0.01154987])"
      ]
     },
     "execution_count": 8,
     "metadata": {},
     "output_type": "execute_result"
    }
   ],
   "source": [
    "pca1.explained_variance_ratio_[:20]#.shape"
   ]
  },
  {
   "cell_type": "code",
   "execution_count": 9,
   "metadata": {
    "scrolled": false
   },
   "outputs": [],
   "source": [
    "explained_variance_cumsum = np.cumsum(pca1.explained_variance_ratio_) #collect all the variances"
   ]
  },
  {
   "cell_type": "code",
   "execution_count": 216,
   "metadata": {
    "scrolled": false
   },
   "outputs": [],
   "source": [
    "#arr_cumsum.shape"
   ]
  },
  {
   "cell_type": "code",
   "execution_count": 10,
   "metadata": {
    "scrolled": false
   },
   "outputs": [
    {
     "data": {
      "text/plain": [
       "array([0.09751189, 0.16910221, 0.23035108, 0.28425272, 0.33302797,\n",
       "       0.3758171 , 0.4086515 , 0.43769728, 0.46536658, 0.48885356,\n",
       "       0.50995974, 0.53048013, 0.54752784, 0.56440781, 0.58024594,\n",
       "       0.59507654, 0.6082601 , 0.62107842, 0.63303852, 0.64458838])"
      ]
     },
     "execution_count": 10,
     "metadata": {},
     "output_type": "execute_result"
    }
   ],
   "source": [
    "explained_variance_cumsum[:20]"
   ]
  },
  {
   "cell_type": "code",
   "execution_count": 16,
   "metadata": {},
   "outputs": [
    {
     "data": {
      "text/plain": [
       "178"
      ]
     },
     "execution_count": 16,
     "metadata": {},
     "output_type": "execute_result"
    }
   ],
   "source": [
    "np.argmax(explained_variance_cumsum >= 0.96) #check the index where there is a 96% variance is achieved\n",
    "#index starts from 0. Hence 178th index means, overall first 179 components are explaining the 96% of variance."
   ]
  },
  {
   "cell_type": "code",
   "execution_count": 206,
   "metadata": {},
   "outputs": [
    {
     "data": {
      "text/plain": [
       "array([0.09747063, 0.1690453 , 0.23041618, 0.28437058, 0.33350646,\n",
       "       0.3767911 , 0.40954467, 0.43847713, 0.46611236, 0.48959649,\n",
       "       0.51054448, 0.53115482, 0.54830958, 0.56530458, 0.58119455,\n",
       "       0.5960344 , 0.60917056, 0.62199265, 0.63388962, 0.64531904,\n",
       "       0.6560926 , 0.66624861, 0.67581647, 0.68496414, 0.69381673,\n",
       "       0.70218609, 0.71026447, 0.71803188, 0.72540638, 0.73228993,\n",
       "       0.73887218, 0.74525477, 0.75125416, 0.75713507, 0.76276639,\n",
       "       0.76815006, 0.7731885 , 0.77807418, 0.78283419, 0.78749141,\n",
       "       0.79202818, 0.79649159, 0.8006624 , 0.80463334, 0.80847518,\n",
       "       0.8122187 , 0.81583779, 0.81933916, 0.8226716 , 0.82588286,\n",
       "       0.82902543, 0.83212696, 0.83505932, 0.83790394, 0.84071135,\n",
       "       0.84341287, 0.84607908, 0.84864109, 0.85117105, 0.85361766,\n",
       "       0.85601775, 0.85840989, 0.86067805, 0.86288537, 0.86502359,\n",
       "       0.86708141, 0.86911025, 0.87106855, 0.87299167, 0.8748696 ,\n",
       "       0.87672422, 0.87852617, 0.88029964, 0.88201961, 0.88367953,\n",
       "       0.88531191, 0.88690896, 0.888455  , 0.88992916, 0.89135948,\n",
       "       0.89276502, 0.89416256, 0.89554395, 0.89689716, 0.89821992,\n",
       "       0.89952513, 0.90082266, 0.90205683, 0.90327605, 0.90446804,\n",
       "       0.90562164, 0.90675359, 0.90787461, 0.90897592, 0.91005468,\n",
       "       0.91112749, 0.91216307, 0.91319082, 0.91420035, 0.91519584,\n",
       "       0.91617164, 0.91711665, 0.91805522, 0.91896827, 0.91987036,\n",
       "       0.92075621, 0.92162391, 0.9224704 , 0.92330638, 0.92411815,\n",
       "       0.92490463, 0.9256909 , 0.92646552, 0.92723522, 0.92798932,\n",
       "       0.92873507, 0.92946883, 0.93019736, 0.93091096, 0.93161383,\n",
       "       0.93230715, 0.93299164, 0.9336713 , 0.9343363 , 0.9349908 ,\n",
       "       0.93563152, 0.93626636, 0.93689344, 0.93751703, 0.93812272,\n",
       "       0.93872489, 0.93931521, 0.93989758, 0.94047787, 0.94105407,\n",
       "       0.94162158, 0.94218572, 0.94274075, 0.9432738 , 0.94380107,\n",
       "       0.94432081, 0.94483071, 0.94533473, 0.94583443, 0.94632732,\n",
       "       0.94681701, 0.94730034, 0.94777672, 0.94825144, 0.94871944,\n",
       "       0.94918539, 0.94964803, 0.95010539, 0.95055467, 0.9510006 ,\n",
       "       0.95144347, 0.95188054, 0.95230586, 0.95272586, 0.95314108,\n",
       "       0.95355222, 0.95395781, 0.95435781, 0.95475329, 0.95514675,\n",
       "       0.95553697, 0.95591779, 0.95629631, 0.95667125, 0.95704458,\n",
       "       0.95741057, 0.95777335, 0.95813372, 0.9584896 , 0.95884348,\n",
       "       0.95919545, 0.95954099, 0.95988339, 0.96022407])"
      ]
     },
     "execution_count": 206,
     "metadata": {},
     "output_type": "execute_result"
    }
   ],
   "source": [
    "explained_variance_cumsum[:179]"
   ]
  },
  {
   "cell_type": "code",
   "execution_count": 115,
   "metadata": {},
   "outputs": [
    {
     "name": "stdout",
     "output_type": "stream",
     "text": [
      "Number of components for 96% preserverd vairance :  179\n"
     ]
    }
   ],
   "source": [
    "num_components = np.argmax(arr_cumsum >= 0.96) + 1 #added 1, since idexing starts from 0\n",
    "print(\"Number of components for 96% preserverd vairance : \", num_components)"
   ]
  },
  {
   "cell_type": "markdown",
   "metadata": {},
   "source": [
    "### Choose 179 as number of components and perform PCA, so that resulted PCAs will preserve 96% variance of original data."
   ]
  },
  {
   "cell_type": "code",
   "execution_count": 119,
   "metadata": {},
   "outputs": [
    {
     "data": {
      "text/plain": [
       "(33600, 179)"
      ]
     },
     "execution_count": 119,
     "metadata": {},
     "output_type": "execute_result"
    }
   ],
   "source": [
    "pca_96 = PCA(n_components=179)\n",
    "digit_X_train_96 = pca_96.fit_transform(digit_X_train)\n",
    "digit_X_train_96.shape"
   ]
  },
  {
   "cell_type": "code",
   "execution_count": 122,
   "metadata": {},
   "outputs": [
    {
     "data": {
      "text/plain": [
       "(179,)"
      ]
     },
     "execution_count": 122,
     "metadata": {},
     "output_type": "execute_result"
    }
   ],
   "source": [
    "pca_96.explained_variance_ratio_.shape"
   ]
  },
  {
   "cell_type": "code",
   "execution_count": 123,
   "metadata": {},
   "outputs": [
    {
     "data": {
      "text/plain": [
       "0.9598686876151601"
      ]
     },
     "execution_count": 123,
     "metadata": {},
     "output_type": "execute_result"
    }
   ],
   "source": [
    "pca_96.explained_variance_ratio_.sum()"
   ]
  },
  {
   "cell_type": "markdown",
   "metadata": {},
   "source": [
    "### Way 2:  Plot the explained variance (cumulative) as a function of the number of dimensions. There will usually be an elbow in the curve, where the explained variance stops growing fast. We can take the number of dimentions at this elbow as the best explained variance."
   ]
  },
  {
   "cell_type": "code",
   "execution_count": 75,
   "metadata": {},
   "outputs": [
    {
     "data": {
      "image/png": "[encoded data removed]",
      "text/plain": [
       "<matplotlib.figure.Figure at 0x2051d5bf7f0>"
      ]
     },
     "metadata": {},
     "output_type": "display_data"
    }
   ],
   "source": [
    "x_lbls = np.arange(len(arr_cumsum))\n",
    "plt.plot(x_lbls, arr_cumsum, \"b-\", linewidth=2)\n",
    "plt.xlabel(\"Number of Dimensions\", fontsize=14) \n",
    "plt.ylabel(\"Cumulative Explained Variance\", fontsize=14)   \n",
    "plt.grid(True)\n"
   ]
  },
  {
   "cell_type": "code",
   "execution_count": 17,
   "metadata": {},
   "outputs": [
    {
     "data": {
      "image/png": "[encoded data removed]",
      "text/plain": [
       "<Figure size 432x288 with 1 Axes>"
      ]
     },
     "metadata": {
      "needs_background": "light"
     },
     "output_type": "display_data"
    }
   ],
   "source": [
    "x_lbls = np.arange(len(explained_variance_cumsum))\n",
    "plt.plot(x_lbls, explained_variance_cumsum, \"b-\", linewidth=2)\n",
    "plt.xlabel(\"Number of Dimensions\", fontsize=14) \n",
    "plt.ylabel(\"Cumulative Explained Variance\", fontsize=14)   \n",
    "plt.grid(True)"
   ]
  },
  {
   "cell_type": "code",
   "execution_count": 124,
   "metadata": {},
   "outputs": [
    {
     "data": {
      "text/plain": [
       "(33600, 400)"
      ]
     },
     "execution_count": 124,
     "metadata": {},
     "output_type": "execute_result"
    }
   ],
   "source": [
    "pca_dim_400 = PCA(n_components=400)\n",
    "digit_X_train_dim_400 = pca_dim_400.fit_transform(digit_X_train)\n",
    "digit_X_train_dim_400.shape"
   ]
  },
  {
   "cell_type": "code",
   "execution_count": 125,
   "metadata": {},
   "outputs": [
    {
     "data": {
      "text/plain": [
       "(784, 400)"
      ]
     },
     "execution_count": 125,
     "metadata": {},
     "output_type": "execute_result"
    }
   ],
   "source": [
    "pca_dim_400.components_[:, :].T.shape"
   ]
  },
  {
   "cell_type": "code",
   "execution_count": 127,
   "metadata": {},
   "outputs": [
    {
     "data": {
      "text/plain": [
       "0.9958268868442545"
      ]
     },
     "execution_count": 127,
     "metadata": {},
     "output_type": "execute_result"
    }
   ],
   "source": [
    "pca_dim_400.explained_variance_ratio_.sum()"
   ]
  },
  {
   "cell_type": "code",
   "execution_count": 19,
   "metadata": {},
   "outputs": [
    {
     "data": {
      "text/plain": [
       "(33600, 178)"
      ]
     },
     "execution_count": 19,
     "metadata": {},
     "output_type": "execute_result"
    }
   ],
   "source": [
    "pca_dim_178 = PCA(n_components=178)\n",
    "digit_X_train_dim_178 = pca_dim_178.fit_transform(digit_X_train)\n",
    "digit_X_train_dim_178.shape"
   ]
  },
  {
   "cell_type": "code",
   "execution_count": 20,
   "metadata": {},
   "outputs": [
    {
     "data": {
      "text/plain": [
       "0.959405264145324"
      ]
     },
     "execution_count": 20,
     "metadata": {},
     "output_type": "execute_result"
    }
   ],
   "source": [
    "pca_dim_178.explained_variance_ratio_.sum()"
   ]
  },
  {
   "cell_type": "markdown",
   "metadata": {},
   "source": [
    "### decompress the reduced dataset back to 784 dimensions: \n",
    "  * We can decompress the reduced dataset back to 784 dimensions by applying the inverse transformation of the PCA projection. **This reconstructed data won't give back the original data,** since the projection lost a bit of information (within the 5% variance that was dropped), but it will likely be quite close to the original data. The mean squared distance between the original data and the reconstructed data (compressed and then decompressed) is called the **\"Reconstruction Error\"**."
   ]
  },
  {
   "cell_type": "code",
   "execution_count": 78,
   "metadata": {},
   "outputs": [
    {
     "data": {
      "text/plain": [
       "(33600, 784)"
      ]
     },
     "execution_count": 78,
     "metadata": {},
     "output_type": "execute_result"
    }
   ],
   "source": [
    "digit_X_train_reconstructed = pca_dim_400.inverse_transform(digit_X_train_dim_400)\n",
    "digit_X_train_reconstructed.shape"
   ]
  },
  {
   "cell_type": "code",
   "execution_count": 21,
   "metadata": {},
   "outputs": [
    {
     "data": {
      "text/plain": [
       "(33600, 784)"
      ]
     },
     "execution_count": 21,
     "metadata": {},
     "output_type": "execute_result"
    }
   ],
   "source": [
    "digit_X_train_reconstructed = pca_dim_178.inverse_transform(digit_X_train_dim_178)\n",
    "digit_X_train_reconstructed.shape"
   ]
  },
  {
   "cell_type": "markdown",
   "metadata": {},
   "source": [
    "### Let's check if reconstruction of image is happening perfectly or not"
   ]
  },
  {
   "cell_type": "code",
   "execution_count": 23,
   "metadata": {},
   "outputs": [
    {
     "data": {
      "text/plain": [
       "Int64Index([ 4637, 25804, 12932,  6389, 33505, 39278,  5420, 19854,  8418,\n",
       "            22053,\n",
       "            ...\n",
       "            14222,  5409, 12508,  9730,  6433, 10090,  7430, 25342, 38531,\n",
       "            12270],\n",
       "           dtype='int64', length=33600)"
      ]
     },
     "execution_count": 23,
     "metadata": {},
     "output_type": "execute_result"
    }
   ],
   "source": [
    "digit_X_train.index"
   ]
  },
  {
   "cell_type": "code",
   "execution_count": 24,
   "metadata": {},
   "outputs": [
    {
     "data": {
      "text/plain": [
       "(-0.5, 27.5, 27.5, -0.5)"
      ]
     },
     "execution_count": 24,
     "metadata": {},
     "output_type": "execute_result"
    },
    {
     "data": {
      "image/png": "[encoded data removed]",
      "text/plain": [
       "<Figure size 432x288 with 2 Axes>"
      ]
     },
     "metadata": {
      "needs_background": "light"
     },
     "output_type": "display_data"
    }
   ],
   "source": [
    "from  matplotlib.cm import  binary\n",
    "\n",
    "some_digit = digit_X_train.iloc[13361]\n",
    "some_digit_image = np.array(some_digit).reshape(28, 28)\n",
    "\n",
    "some_digit_recon = digit_X_train_reconstructed[13361]\n",
    "some_digit_image_recon = some_digit_recon.reshape(28, 28)\n",
    "\n",
    "\n",
    "#plt.figure(figsize=(10,10))\n",
    "plt.subplot(121)\n",
    "plt.imshow(some_digit_image, cmap = binary,\n",
    "           interpolation=\"nearest\")\n",
    "plt.axis(\"off\")\n",
    "\n",
    "plt.subplot(122)\n",
    "plt.imshow(some_digit_image_recon, cmap = binary,\n",
    "           interpolation=\"nearest\")\n",
    "plt.axis(\"off\")"
   ]
  },
  {
   "cell_type": "markdown",
   "metadata": {},
   "source": [
    "## Incremental PCA\n",
    "  * One problem with the preceding implementation of PCA is that it requires the whole training set to fit in memory in order for the SVD algorithm to run. **To overcome this memory issue we can use incremental PCA (IPCA) algorithms.** Incremental PCA can take data in mini-batches one mini-batch at a time. This is useful for large training sets, and also to apply PCA online (i.e., on the fly, as new instances arrive). **Please remember to call partial_fit() on IPCA **(insead of fit())."
   ]
  },
  {
   "cell_type": "code",
   "execution_count": 81,
   "metadata": {},
   "outputs": [
    {
     "data": {
      "text/plain": [
       "(33600, 200)"
      ]
     },
     "execution_count": 81,
     "metadata": {},
     "output_type": "execute_result"
    }
   ],
   "source": [
    "from sklearn.decomposition import IncrementalPCA\n",
    "\n",
    "n_batches = 100\n",
    "inc_pca = IncrementalPCA(n_components=200)\n",
    "for batch in np.array_split(digit_X_train, n_batches):\n",
    "    inc_pca.partial_fit(batch)\n",
    "\n",
    "digit_X_train_inc = inc_pca.transform(digit_X_train)    \n",
    "digit_X_train_inc.shape"
   ]
  },
  {
   "cell_type": "markdown",
   "metadata": {},
   "source": [
    "# 2) Manifold Learning"
   ]
  },
  {
   "cell_type": "markdown",
   "metadata": {},
   "source": [
    "## Kernal PCA\n",
    "  * Kernal PCA uses a mathemetical technique to derive principle components on high-dimentional space. This technique making it possible to perform complex nonlinear projections for dimensionality reduction. It is often good at preserving clusters of instances after projection, or sometimes even unrolling datasets that lie close to a twisted manifold."
   ]
  },
  {
   "cell_type": "code",
   "execution_count": 128,
   "metadata": {},
   "outputs": [
    {
     "data": {
      "image/png": "[encoded data removed]",
      "text/plain": [
       "<Figure size 864x720 with 1 Axes>"
      ]
     },
     "metadata": {
      "needs_background": "light"
     },
     "output_type": "display_data"
    }
   ],
   "source": [
    "from sklearn.datasets import make_swiss_roll\n",
    "from mpl_toolkits.mplot3d import Axes3D\n",
    "X, t = make_swiss_roll(n_samples=1000, noise=0.2, random_state=42)\n",
    "axes = [-11.5, 14, -2, 23, -12, 15]\n",
    "\n",
    "fig = plt.figure(figsize=(12, 10))\n",
    "ax = fig.add_subplot(111, projection='3d')\n",
    "\n",
    "ax.scatter(X[:, 0], X[:, 1], X[:, 2], c=t, cmap=plt.cm.hot)\n",
    "ax.view_init(10, -70)\n",
    "ax.set_xlabel(\"$x_1$\", fontsize=18)\n",
    "ax.set_ylabel(\"$x_2$\", fontsize=18)\n",
    "ax.set_zlabel(\"$x_3$\", fontsize=18)\n",
    "ax.set_xlim(axes[0:2])\n",
    "ax.set_ylim(axes[2:4])\n",
    "ax.set_zlim(axes[4:6])\n",
    "\n",
    "plt.show()"
   ]
  },
  {
   "cell_type": "code",
   "execution_count": 1,
   "metadata": {},
   "outputs": [],
   "source": [
    "from sklearn.decomposition import KernelPCA"
   ]
  },
  {
   "cell_type": "code",
   "execution_count": null,
   "metadata": {},
   "outputs": [],
   "source": [
    "KernelPCA?"
   ]
  },
  {
   "cell_type": "code",
   "execution_count": 131,
   "metadata": {},
   "outputs": [
    {
     "data": {
      "image/png": "[encoded data removed]",
      "text/plain": [
       "<Figure size 792x288 with 3 Axes>"
      ]
     },
     "metadata": {
      "needs_background": "light"
     },
     "output_type": "display_data"
    }
   ],
   "source": [
    "from sklearn.decomposition import KernelPCA\n",
    "\n",
    "lin_pca = KernelPCA(n_components = 2, kernel=\"linear\", fit_inverse_transform=True)\n",
    "rbf_pca = KernelPCA(n_components = 2, kernel=\"rbf\", gamma=0.0433, fit_inverse_transform=True)\n",
    "sig_pca = KernelPCA(n_components = 2, kernel=\"sigmoid\", gamma=0.001, coef0=1, fit_inverse_transform=True)\n",
    "\n",
    "plt.figure(figsize=(11, 4))\n",
    "for subplot, pca, title in ((131, lin_pca, \"Linear kernel\"), (132, rbf_pca, \"RBF kernel, $\\gamma=0.04$\"), (133, sig_pca, \"Sigmoid kernel, $\\gamma=10^{-3}, r=1$\")):\n",
    "    X_reduced = pca.fit_transform(X)\n",
    "    plt.subplot(subplot)\n",
    "    plt.title(title, fontsize=14)\n",
    "    plt.scatter(X_reduced[:, 0], X_reduced[:, 1], c=t, cmap=plt.cm.hot)\n",
    "    plt.xlabel(\"$z_1$\", fontsize=18)\n",
    "    if subplot == 131:\n",
    "        plt.ylabel(\"$z_2$\", fontsize=18, rotation=0)\n",
    "    plt.grid(True)\n",
    "\n",
    "plt.show()"
   ]
  },
  {
   "cell_type": "code",
   "execution_count": 35,
   "metadata": {},
   "outputs": [
    {
     "data": {
      "text/plain": [
       "(1000, 3)"
      ]
     },
     "execution_count": 35,
     "metadata": {},
     "output_type": "execute_result"
    }
   ],
   "source": [
    "X.shape"
   ]
  },
  {
   "cell_type": "code",
   "execution_count": 85,
   "metadata": {
    "collapsed": true
   },
   "outputs": [],
   "source": [
    "rbf_pca2 = KernelPCA(n_components = 1000, kernel=\"rbf\", gamma=0.0433)"
   ]
  },
  {
   "cell_type": "code",
   "execution_count": 86,
   "metadata": {
    "collapsed": true
   },
   "outputs": [],
   "source": [
    "rbf_X_reduced = rbf_pca2.fit_transform(X)"
   ]
  },
  {
   "cell_type": "code",
   "execution_count": 87,
   "metadata": {},
   "outputs": [
    {
     "data": {
      "text/plain": [
       "(1000, 1000)"
      ]
     },
     "execution_count": 87,
     "metadata": {},
     "output_type": "execute_result"
    }
   ],
   "source": [
    "rbf_X_reduced.shape #number of rows == number of columns .. because it's kernel way and it uses landmarks"
   ]
  },
  {
   "cell_type": "code",
   "execution_count": 88,
   "metadata": {},
   "outputs": [
    {
     "data": {
      "text/plain": [
       "numpy.ndarray"
      ]
     },
     "execution_count": 88,
     "metadata": {},
     "output_type": "execute_result"
    }
   ],
   "source": [
    "type(rbf_X_reduced)"
   ]
  },
  {
   "cell_type": "markdown",
   "metadata": {},
   "source": [
    "### How to choose Best Kernal and Hyperparameters (KernalPCA is unsupervised)\n",
    "  * **Approach 1 : One way to select best kernel and hyperparameter values** is to **use \"GridSearchCV\"** to select the kernel and hyperparameters that lead to the best performance on that task. **(dimensionality reduction is often a preparation step for a supervised learning task)**\n",
    "  * **Approach 2 : Other way is to (this time entirely unsupervised) select the kernel and hyperparameters that yield the lowest reconstruction error.** To perform Inverse Transformation, we need use fit_inverse_transform = True, by default this is false in KernalPCA class."
   ]
  },
  {
   "cell_type": "markdown",
   "metadata": {},
   "source": [
    "### Approach 1 : GridSearchCV"
   ]
  },
  {
   "cell_type": "code",
   "execution_count": 137,
   "metadata": {},
   "outputs": [
    {
     "data": {
      "text/plain": [
       "GridSearchCV(cv=3, error_score='raise-deprecating',\n",
       "       estimator=Pipeline(memory=None,\n",
       "     steps=[('kpca', KernelPCA(alpha=1.0, coef0=1, copy_X=True, degree=3, eigen_solver='auto',\n",
       "     fit_inverse_transform=False, gamma=None, kernel='linear',\n",
       "     kernel_params=None, max_iter=None, n_components=2, n_jobs=None,\n",
       "     random_state=None, remove_zero_eig=False, tol=0)), ('log_reg', LogisticRe...penalty='l2', random_state=None, solver='warn',\n",
       "          tol=0.0001, verbose=0, warm_start=False))]),\n",
       "       fit_params=None, iid='warn', n_jobs=None,\n",
       "       param_grid=[{'kpca__gamma': array([0.03   , 0.03222, 0.03444, 0.03667, 0.03889, 0.04111, 0.04333,\n",
       "       0.04556, 0.04778, 0.05   ]), 'kpca__kernel': ['rbf', 'sigmoid']}],\n",
       "       pre_dispatch='2*n_jobs', refit=True, return_train_score='warn',\n",
       "       scoring=None, verbose=0)"
      ]
     },
     "execution_count": 137,
     "metadata": {},
     "output_type": "execute_result"
    }
   ],
   "source": [
    "from sklearn.linear_model import LogisticRegression\n",
    "clf_pipeline = Pipeline([\n",
    "        (\"kpca\", KernelPCA(n_components=2)),\n",
    "        (\"log_reg\", LogisticRegression())\n",
    "    ])\n",
    "\n",
    "param_grid = [{\n",
    "        \"kpca__gamma\": np.linspace(0.03, 0.05, 10),\n",
    "        \"kpca__kernel\": [\"rbf\", \"sigmoid\"]\n",
    "    }]\n",
    "y = t > 6.9\n",
    "\n",
    "grid_search = GridSearchCV(clf_pipeline, param_grid, cv=3)\n",
    "grid_search.fit(X, y)"
   ]
  },
  {
   "cell_type": "code",
   "execution_count": 139,
   "metadata": {},
   "outputs": [
    {
     "name": "stdout",
     "output_type": "stream",
     "text": [
      "{'kpca__gamma': 0.043333333333333335, 'kpca__kernel': 'rbf'}\n"
     ]
    }
   ],
   "source": [
    "print(grid_search.best_params_)"
   ]
  },
  {
   "cell_type": "markdown",
   "metadata": {},
   "source": [
    "### Approach 2: Reconstruction Error"
   ]
  },
  {
   "cell_type": "code",
   "execution_count": 91,
   "metadata": {},
   "outputs": [
    {
     "data": {
      "text/plain": [
       "(1000, 3)"
      ]
     },
     "execution_count": 91,
     "metadata": {},
     "output_type": "execute_result"
    }
   ],
   "source": [
    "X.shape"
   ]
  },
  {
   "cell_type": "code",
   "execution_count": 92,
   "metadata": {},
   "outputs": [
    {
     "name": "stdout",
     "output_type": "stream",
     "text": [
      "RBF reduced shape (1000, 2)\n",
      "RBF reconstructed shape (1000, 3)\n"
     ]
    }
   ],
   "source": [
    "rbf_pca = KernelPCA(n_components = 2, kernel=\"rbf\", gamma=0.0433,\n",
    "                    fit_inverse_transform=True)\n",
    "rbf_X_reduced = rbf_pca.fit_transform(X)\n",
    "print(\"RBF reduced shape\", rbf_X_reduced.shape)\n",
    "rbf_X_preimage = rbf_pca.inverse_transform(rbf_X_reduced)\n",
    "print(\"RBF reconstructed shape\", rbf_X_preimage.shape)"
   ]
  },
  {
   "cell_type": "code",
   "execution_count": 93,
   "metadata": {
    "collapsed": true
   },
   "outputs": [],
   "source": [
    "sigmoid_pca = KernelPCA(n_components = 2, kernel=\"sigmoid\",\n",
    "                    fit_inverse_transform=True)\n",
    "sigmoid_X_reduced = sigmoid_pca.fit_transform(X)\n",
    "sigmoid_X_preimage = sigmoid_pca.inverse_transform(sigmoid_X_reduced)"
   ]
  },
  {
   "cell_type": "code",
   "execution_count": 94,
   "metadata": {
    "collapsed": true
   },
   "outputs": [],
   "source": [
    "linear_pca = KernelPCA(n_components = 2, kernel=\"linear\",\n",
    "                    fit_inverse_transform=True)\n",
    "linear_X_reduced = linear_pca.fit_transform(X)\n",
    "linear_X_preimage = linear_pca.inverse_transform(linear_X_reduced)"
   ]
  },
  {
   "cell_type": "code",
   "execution_count": 95,
   "metadata": {},
   "outputs": [
    {
     "name": "stdout",
     "output_type": "stream",
     "text": [
      "RBF Reconstrution Error :  32.7863087958\n",
      "Sigmoid Reconstrution Error :  6.19811471008\n",
      "Linear Reconstrution Error :  51.5846349023\n"
     ]
    }
   ],
   "source": [
    "from sklearn.metrics import mean_squared_error\n",
    "\n",
    "print(\"RBF Reconstrution Error : \", mean_squared_error(X, rbf_X_preimage))\n",
    "print(\"Sigmoid Reconstrution Error : \", mean_squared_error(X, sigmoid_X_preimage))\n",
    "print(\"Linear Reconstrution Error : \", mean_squared_error(X, linear_X_preimage))"
   ]
  },
  {
   "cell_type": "markdown",
   "metadata": {},
   "source": [
    "## LocallyLinearEmbedding (LLE) : \n",
    "  * **LLE** is another very powerful nonlinear dimensionality reduction (NLDR) technique. It is a Manifold Learning technique that does not rely on projections like the previous algorithms. In a nutshell, LLE works by first measuring how each training instance linearly relates to its closest neighbors, and then looking for a low-dimensional representation of the training set where these local relationships are best preserved. This makes it particularly good at unrolling twisted manifolds, especially when there is not too much noise."
   ]
  },
  {
   "cell_type": "code",
   "execution_count": 96,
   "metadata": {
    "collapsed": true
   },
   "outputs": [],
   "source": [
    "from sklearn.manifold import LocallyLinearEmbedding\n",
    "\n",
    "lle = LocallyLinearEmbedding(n_components=2, n_neighbors=10, random_state=42)\n",
    "lle_X_reduced = lle.fit_transform(X)"
   ]
  },
  {
   "cell_type": "code",
   "execution_count": 97,
   "metadata": {},
   "outputs": [
    {
     "data": {
      "image/png": "[encoded data removed]",
      "text/plain": [
       "<matplotlib.figure.Figure at 0x2050fc09d68>"
      ]
     },
     "metadata": {},
     "output_type": "display_data"
    }
   ],
   "source": [
    "plt.title(\"Unrolled swiss roll using LLE\", fontsize=14)\n",
    "plt.scatter(lle_X_reduced[:, 0], lle_X_reduced[:, 1], c=t, cmap=plt.cm.hot)\n",
    "plt.xlabel(\"$z_1$\", fontsize=18)\n",
    "plt.ylabel(\"$z_2$\", fontsize=18)\n",
    "plt.axis([-0.065, 0.055, -0.1, 0.12])\n",
    "plt.grid(True)"
   ]
  },
  {
   "cell_type": "markdown",
   "metadata": {},
   "source": [
    "  * There is no inverse_transform method, hence only way to check if dimentionality reduction happened properly or not is the use GridSearchCV only."
   ]
  },
  {
   "cell_type": "markdown",
   "metadata": {},
   "source": [
    "### How LLE works:\n",
    "  * **Step 1:** for each training instance $x^i$, the algorithm identifies its k closest neighbors (in the preceding code k = 10), then tries to reconstruct $x^i$ as a linear function of these neighbors. More specifically, it finds the weights $W_i,_j$ such that the squared distance between $x^i$ and $\\sum_{j=1}^m W_i,_j x^j$ is as small as possible, \n",
    "    * Assuming $W_i,_j = 0 $ if $x^j$ is not one of the k closest neighbors of $x^i$.\n",
    "  * **Step 2:** map the training instances into a d-dimensional space (where d < n) while preserving these local relationships as much as possible. If $z^i$ is a sub set of the row $x^i$ in the d-dimensional space, then we want the squared distance between $z^i$ and  $\\sum_{j=1}^m W_i,_j^| z^j$ to be as small as possible."
   ]
  },
  {
   "cell_type": "markdown",
   "metadata": {},
   "source": [
    "# Apply PCA on Housing Price Data Set - Do Polynomial Regression"
   ]
  },
  {
   "cell_type": "code",
   "execution_count": 98,
   "metadata": {
    "collapsed": true
   },
   "outputs": [],
   "source": [
    "from sklearn.linear_model import SGDRegressor\n",
    "from sklearn.preprocessing import PolynomialFeatures"
   ]
  },
  {
   "cell_type": "code",
   "execution_count": 99,
   "metadata": {
    "collapsed": true
   },
   "outputs": [],
   "source": [
    "housing_train_set = pd.read_csv('../data/cleaned_housing_train_set.csv')\n",
    "X_features  = [feature for feature in housing_train_set.columns if feature not in ['SalePrice', 'Id']]\n",
    "y_feature = 'SalePrice'"
   ]
  },
  {
   "cell_type": "code",
   "execution_count": 100,
   "metadata": {
    "collapsed": true
   },
   "outputs": [],
   "source": [
    "class InputOutputFeatureSelector(BaseEstimator, TransformerMixin):\n",
    "    def __init__(self, in_attr_list, our_feature):\n",
    "        self.in_attr_list = in_attr_list\n",
    "        self.our_feature = our_feature\n",
    "    def fit(self, X, y=None):\n",
    "        return self\n",
    "    def transform(self, X):\n",
    "        return X[self.in_attr_list].values, X[self.our_feature].values\n",
    "    \n",
    "def defineInOutPipeling(X_feat, y_feat):\n",
    "    pipeline_inout_features = Pipeline([\n",
    "        ('inputOutputFeatureSelector', InputOutputFeatureSelector(X_feat, y_feat))\n",
    "    ])\n",
    "    return pipeline_inout_features    "
   ]
  },
  {
   "cell_type": "code",
   "execution_count": 101,
   "metadata": {
    "collapsed": true
   },
   "outputs": [],
   "source": [
    "pipeline_inout_features = defineInOutPipeling(X_features, y_feature)"
   ]
  },
  {
   "cell_type": "code",
   "execution_count": 102,
   "metadata": {
    "collapsed": true
   },
   "outputs": [],
   "source": [
    "X_train, y_train = pipeline_inout_features.fit_transform(housing_train_set)"
   ]
  },
  {
   "cell_type": "code",
   "execution_count": 103,
   "metadata": {},
   "outputs": [
    {
     "data": {
      "text/plain": [
       "(1149, 98)"
      ]
     },
     "execution_count": 103,
     "metadata": {},
     "output_type": "execute_result"
    }
   ],
   "source": [
    "X_train.shape"
   ]
  },
  {
   "cell_type": "markdown",
   "metadata": {},
   "source": [
    "#### Apply PCA on X_train and see number of features for keeping 99.99% variance in dataset. "
   ]
  },
  {
   "cell_type": "code",
   "execution_count": 104,
   "metadata": {},
   "outputs": [
    {
     "data": {
      "text/plain": [
       "(1149, 54)"
      ]
     },
     "execution_count": 104,
     "metadata": {},
     "output_type": "execute_result"
    }
   ],
   "source": [
    "housing_pca = PCA(n_components=0.99999999)\n",
    "\n",
    "X_train_pca = housing_pca.fit_transform(X_train)\n",
    "X_train_pca.shape"
   ]
  },
  {
   "cell_type": "code",
   "execution_count": 30,
   "metadata": {
    "collapsed": true
   },
   "outputs": [],
   "source": [
    "ploy_features = PolynomialFeatures()\n",
    "minMaxScaler = MinMaxScaler()\n",
    "sgd_reg = SGDRegressor(random_state=15)\n",
    "\n",
    "pipe = Pipeline(steps=[('ploy_features', ploy_features), \n",
    "                       ('minMaxScaler', minMaxScaler),\n",
    "                       ('sgd_reg', sgd_reg)])"
   ]
  },
  {
   "cell_type": "code",
   "execution_count": 44,
   "metadata": {},
   "outputs": [
    {
     "name": "stdout",
     "output_type": "stream",
     "text": [
      "dict_keys(['degree', 'include_bias', 'interaction_only'])\n"
     ]
    }
   ],
   "source": [
    "print(ploy_features.get_params().keys())"
   ]
  },
  {
   "cell_type": "code",
   "execution_count": 45,
   "metadata": {},
   "outputs": [
    {
     "data": {
      "text/plain": [
       "GridSearchCV(cv=5, error_score='raise',\n",
       "       estimator=Pipeline(steps=[('ploy_features', PolynomialFeatures(degree=2, include_bias=True, interaction_only=False)), ('minMaxScaler', MinMaxScaler(copy=True, feature_range=(0, 1))), ('sgd_reg', SGDRegressor(alpha=0.0001, average=False, epsilon=0.1, eta0=0.01,\n",
       "       fit_intercept=True, l1_ratio=0.15, learning_rate='invscaling',\n",
       "       loss='squared_loss', n_iter=5, penalty='l2', power_t=0.25,\n",
       "       random_state=15, shuffle=True, verbose=0, warm_start=False))]),\n",
       "       fit_params={}, iid=True, n_jobs=1,\n",
       "       param_grid=[{'ploy_features__degree': [2, 3, 4], 'sgd_reg__n_iter': [25, 50], 'sgd_reg__penalty': ['elasticnet']}],\n",
       "       pre_dispatch='2*n_jobs', refit=True, return_train_score=True,\n",
       "       scoring='neg_mean_squared_error', verbose=0)"
      ]
     },
     "execution_count": 45,
     "metadata": {},
     "output_type": "execute_result"
    }
   ],
   "source": [
    "param_grid = [\n",
    "    {'ploy_features__degree': [2,3,4],\n",
    "    'sgd_reg__n_iter': [25, 50],\n",
    "    'sgd_reg__penalty': ['elasticnet']}\n",
    "  ]\n",
    "grid_search = GridSearchCV(pipe, param_grid, cv=5,\n",
    "                           scoring='neg_mean_squared_error')\n",
    "grid_search.fit(X_train_pca, y_train)"
   ]
  },
  {
   "cell_type": "code",
   "execution_count": 46,
   "metadata": {},
   "outputs": [
    {
     "data": {
      "text/plain": [
       "{'ploy_features__degree': 2,\n",
       " 'sgd_reg__n_iter': 50,\n",
       " 'sgd_reg__penalty': 'elasticnet'}"
      ]
     },
     "execution_count": 46,
     "metadata": {},
     "output_type": "execute_result"
    }
   ],
   "source": [
    "grid_search.best_params_"
   ]
  },
  {
   "cell_type": "code",
   "execution_count": 47,
   "metadata": {},
   "outputs": [
    {
     "data": {
      "text/plain": [
       "Pipeline(steps=[('ploy_features', PolynomialFeatures(degree=2, include_bias=True, interaction_only=False)), ('minMaxScaler', MinMaxScaler(copy=True, feature_range=(0, 1))), ('sgd_reg', SGDRegressor(alpha=0.0001, average=False, epsilon=0.1, eta0=0.01,\n",
       "       fit_intercept=True, l1_ratio=0.15, learning_rate='invscaling',\n",
       "       loss='squared_loss', n_iter=50, penalty='elasticnet', power_t=0.25,\n",
       "       random_state=15, shuffle=True, verbose=0, warm_start=False))])"
      ]
     },
     "execution_count": 47,
     "metadata": {},
     "output_type": "execute_result"
    }
   ],
   "source": [
    "grid_search.best_estimator_"
   ]
  },
  {
   "cell_type": "code",
   "execution_count": 48,
   "metadata": {
    "collapsed": true
   },
   "outputs": [],
   "source": [
    "pipeline_ploy_scale = Pipeline(steps=[('ploy_features', PolynomialFeatures(degree=2)), \n",
    "                                      ('minMaxScaler', MinMaxScaler())])"
   ]
  },
  {
   "cell_type": "code",
   "execution_count": 49,
   "metadata": {
    "collapsed": true
   },
   "outputs": [],
   "source": [
    "X_train_trans = pipeline_ploy_scale.fit_transform(X_train_pca, y_train)\n"
   ]
  },
  {
   "cell_type": "code",
   "execution_count": 50,
   "metadata": {},
   "outputs": [
    {
     "data": {
      "text/plain": [
       "(1149, 1540)"
      ]
     },
     "execution_count": 50,
     "metadata": {},
     "output_type": "execute_result"
    }
   ],
   "source": [
    "X_train_trans.shape"
   ]
  },
  {
   "cell_type": "code",
   "execution_count": 51,
   "metadata": {
    "collapsed": true
   },
   "outputs": [],
   "source": [
    "best_sgd = SGDRegressor(alpha=0.0001, average=False, epsilon=0.1, eta0=0.01,\n",
    "       fit_intercept=True, l1_ratio=0.15, learning_rate='invscaling',\n",
    "       loss='squared_loss', n_iter=50, penalty='elasticnet', power_t=0.25,\n",
    "       random_state=15, shuffle=True, verbose=0, warm_start=False)"
   ]
  },
  {
   "cell_type": "code",
   "execution_count": 52,
   "metadata": {},
   "outputs": [
    {
     "data": {
      "text/plain": [
       "SGDRegressor(alpha=0.0001, average=False, epsilon=0.1, eta0=0.01,\n",
       "       fit_intercept=True, l1_ratio=0.15, learning_rate='invscaling',\n",
       "       loss='squared_loss', n_iter=50, penalty='elasticnet', power_t=0.25,\n",
       "       random_state=15, shuffle=True, verbose=0, warm_start=False)"
      ]
     },
     "execution_count": 52,
     "metadata": {},
     "output_type": "execute_result"
    }
   ],
   "source": [
    "best_sgd.fit(X_train_trans, y_train)"
   ]
  },
  {
   "cell_type": "code",
   "execution_count": 53,
   "metadata": {
    "collapsed": true
   },
   "outputs": [],
   "source": [
    "pred_y_train = best_sgd.predict(X_train_trans)"
   ]
  },
  {
   "cell_type": "code",
   "execution_count": 54,
   "metadata": {},
   "outputs": [
    {
     "name": "stdout",
     "output_type": "stream",
     "text": [
      "Root Mean Squred Error :  42838.3875332\n",
      "R-Squared :  0.728080743073\n"
     ]
    }
   ],
   "source": [
    "from sklearn.metrics import mean_squared_error, r2_score\n",
    "print(\"Root Mean Squred Error : \", np.sqrt(mean_squared_error(y_train, pred_y_train)))\n",
    "print(\"R-Squared : \", r2_score(y_train, pred_y_train))"
   ]
  },
  {
   "cell_type": "markdown",
   "metadata": {},
   "source": [
    "IGNORE BELOW"
   ]
  },
  {
   "cell_type": "code",
   "execution_count": 226,
   "metadata": {},
   "outputs": [],
   "source": [
    "import math as mt"
   ]
  },
  {
   "cell_type": "markdown",
   "metadata": {},
   "source": [
    "Your code is doing a log of a number that is less than or equal to zero. That's mathematically undefined, so Python's log function raises an exception. Here's an example."
   ]
  },
  {
   "cell_type": "code",
   "execution_count": 229,
   "metadata": {},
   "outputs": [
    {
     "data": {
      "text/plain": [
       "-0.2231435513142097"
      ]
     },
     "execution_count": 229,
     "metadata": {},
     "output_type": "execute_result"
    }
   ],
   "source": [
    "mt.log(1-0.20) #when y =1, predicted 0.20"
   ]
  },
  {
   "cell_type": "code",
   "execution_count": 230,
   "metadata": {},
   "outputs": [
    {
     "data": {
      "text/plain": [
       "-1.6094379124341003"
      ]
     },
     "execution_count": 230,
     "metadata": {},
     "output_type": "execute_result"
    }
   ],
   "source": [
    "mt.log(0.20)"
   ]
  },
  {
   "cell_type": "code",
   "execution_count": null,
   "metadata": {},
   "outputs": [],
   "source": []
  }
 ],
 "metadata": {
  "kernelspec": {
   "display_name": "Python 3",
   "language": "python",
   "name": "python3"
  },
  "language_info": {
   "codemirror_mode": {
    "name": "ipython",
    "version": 3
   },
   "file_extension": ".py",
   "mimetype": "text/x-python",
   "name": "python",
   "nbconvert_exporter": "python",
   "pygments_lexer": "ipython3",
   "version": "3.8.8"
  }
 },
 "nbformat": 4,
 "nbformat_minor": 2
}
